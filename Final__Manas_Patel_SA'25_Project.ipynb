{
  "nbformat": 4,
  "nbformat_minor": 0,
  "metadata": {
    "colab": {
      "provenance": [],
      "authorship_tag": "ABX9TyMyT0o6E3BcW/PnejV8myeA",
      "include_colab_link": true
    },
    "kernelspec": {
      "name": "python3",
      "display_name": "Python 3"
    },
    "language_info": {
      "name": "python"
    }
  },
  "cells": [
    {
      "cell_type": "markdown",
      "metadata": {
        "id": "view-in-github",
        "colab_type": "text"
      },
      "source": [
        "<a href=\"https://colab.research.google.com/github/manaspatel-chy23iitbhu/Real_Time_Parking_Price/blob/main/Final__Manas_Patel_SA'25_Project.ipynb\" target=\"_parent\"><img src=\"https://colab.research.google.com/assets/colab-badge.svg\" alt=\"Open In Colab\"/></a>"
      ]
    },
    {
      "cell_type": "code",
      "execution_count": null,
      "metadata": {
        "id": "tkYIh06ZV1ug"
      },
      "outputs": [],
      "source": [
        " !pip install pathway bokeh --quiet # This cell may take a few seconds to execute.\n",
        " #This cell is used to install pathway files"
      ]
    },
    {
      "cell_type": "code",
      "source": [
        "import pandas as pd\n",
        "import numpy as np\n",
        "import matplotlib.pyplot as plt\n",
        "import pathway as pw\n",
        "import panel as pn\n",
        "import datetime\n",
        "from datetime import datetime\n",
        "import bokeh\n",
        "# We are importing all the necessary libraries which will be further used in the project"
      ],
      "metadata": {
        "id": "Zi3iElMmV7Iv"
      },
      "execution_count": null,
      "outputs": []
    },
    {
      "cell_type": "markdown",
      "source": [
        "To not face any issue after chaging the name of lot if you wish to you should start running from these cells again"
      ],
      "metadata": {
        "id": "XWHc0qxZsgFd"
      }
    },
    {
      "cell_type": "code",
      "source": [
        "#Dataset is read from csv file\n",
        "url = \"https://raw.githubusercontent.com/manaspatel-chy23iitbhu/Real_Time_Parking_Price/main/dataset.csv\"\n",
        "df = pd.read_csv(url)\n",
        "print(df.shape) #Prints the number of rows and columns present in df\n",
        "df.head() #Prints the first 5 rows of df"
      ],
      "metadata": {
        "id": "2Nb1GrjRr_FC"
      },
      "execution_count": null,
      "outputs": []
    },
    {
      "cell_type": "code",
      "source": [
        "#Merges Date and Time column into a single column and creates a new column with given format\n",
        "df['Timestamp'] = pd.to_datetime(df['LastUpdatedDate'] + \" \" + df['LastUpdatedTime'], format = \"%d-%m-%Y %H:%M:%S\")"
      ],
      "metadata": {
        "id": "2xCXFcQMWYg1"
      },
      "execution_count": null,
      "outputs": []
    },
    {
      "cell_type": "code",
      "source": [
        "#Sorts the df by SystemCodeNumber first and then by the Timestamp column created in last step\n",
        "df = df.sort_values(by = ['SystemCodeNumber','Timestamp']).reset_index(drop = True)"
      ],
      "metadata": {
        "id": "NvAf1leaZORy"
      },
      "execution_count": null,
      "outputs": []
    },
    {
      "cell_type": "code",
      "source": [
        "#All the unique SystemCodeNumbers are stoed as an array and SystemCodeNumbers are printed to help user find the lot they are interested in\n",
        "unique_lots = df[\"SystemCodeNumber\"].unique()\n",
        "unique_lots"
      ],
      "metadata": {
        "id": "6RpPiopARB1y"
      },
      "execution_count": null,
      "outputs": []
    },
    {
      "cell_type": "code",
      "source": [
        "#A for loop is run, which creates a different csv according to each parking lot and names it accordingly\n",
        "for lot in unique_lots:\n",
        "    lot_df = df[df[\"SystemCodeNumber\"] == lot].copy()\n",
        "    lot_df.to_csv(f\"parking_stream_{lot}.csv\", index=False)"
      ],
      "metadata": {
        "id": "_DH7QeVhRF9-"
      },
      "execution_count": null,
      "outputs": []
    },
    {
      "cell_type": "markdown",
      "source": [
        "You can change the name of lot from here"
      ],
      "metadata": {
        "id": "jgbLb6C7stw0"
      }
    },
    {
      "cell_type": "code",
      "source": [
        "#df = pd.read_csv('parking_stream_\"Put the name of lot system code here to create pricing model of that parking lot\".csv')\n",
        "#run all cells after cell no.4 after changing name\n",
        "df = pd.read_csv('parking_stream_Shopping.csv')#here\n",
        "df['TrafficConditionNearby'] = df['TrafficConditionNearby'].replace({'low':0,'high': 2,'average':1}).astype('int32')#replaces given data with numbers for calculation simplification\n",
        "df['VehicleType'] = df['VehicleType'].replace({'car':2,'bike': 1,'truck':3,'cycle':0}).astype('int32')#replaces given data with numbers for calculation simplification\n",
        "# After performing necessary preprocessing in the lot wise csv a final csv is created which will be used as a demo stream\n",
        "df.to_csv('parking_data.csv', index = False)"
      ],
      "metadata": {
        "id": "pLttB6qUFXL7"
      },
      "execution_count": null,
      "outputs": []
    },
    {
      "cell_type": "code",
      "source": [
        "#A schema being created to support necessary data flow and define its type\n",
        "class ParkingSchema(pw.Schema):\n",
        "    ID: int\n",
        "    SystemCodeNumber: str\n",
        "    Capacity: int\n",
        "    Latitude: float\n",
        "    Longitude: float\n",
        "    Occupancy: int\n",
        "    VehicleType: int\n",
        "    TrafficConditionNearby: int\n",
        "    QueueLength: int\n",
        "    IsSpecialDay: int\n",
        "    LastUpdatedDate: str\n",
        "    LastUpdatedTime: str\n",
        "    Timestamp: str"
      ],
      "metadata": {
        "id": "T6etSvS7RtaR"
      },
      "execution_count": null,
      "outputs": []
    },
    {
      "cell_type": "code",
      "source": [
        "#A demo stream is created using pathway to play csv as data stream where input rate is 50 rows per second\n",
        "data = pw.demo.replay_csv(\"parking_data.csv\", schema=ParkingSchema, input_rate=50)"
      ],
      "metadata": {
        "id": "TVbJirpnRl4O"
      },
      "execution_count": null,
      "outputs": []
    },
    {
      "cell_type": "code",
      "source": [
        "# Define the datetime format to parse the 'Timestamp' column\n",
        "fmt = \"%Y-%m-%d %H:%M:%S\"\n",
        "\n",
        "# Add new columns to the data stream:\n",
        "# - 't' contains the parsed full datetime\n",
        "# - 'day' extracts the date part and resets the time to midnight (useful for day-level aggregations)\n",
        "data_with_time = data.with_columns(\n",
        "    t = data.Timestamp.dt.strptime(fmt),\n",
        "    day = data.Timestamp.dt.strptime(fmt).dt.strftime(\"%Y-%m-%dT00:00:00\")\n",
        ")"
      ],
      "metadata": {
        "id": "TtMzyRkfS9XP"
      },
      "execution_count": null,
      "outputs": []
    },
    {
      "cell_type": "markdown",
      "source": [
        "Model 1"
      ],
      "metadata": {
        "id": "W7F62g5ZpRgW"
      }
    },
    {
      "cell_type": "code",
      "source": [
        "# Define a daily tumbling window over the data stream using Pathway\n",
        "# This block performs temporal aggregation and computes a dynamic price for each day\n",
        "import datetime\n",
        "\n",
        "delta_window = (\n",
        "    data_with_time.windowby(\n",
        "        pw.this.t,  # Event time column to use for windowing (parsed datetime)\n",
        "        instance=pw.this.day,  # Logical partitioning key: one instance per calendar day\n",
        "        window=pw.temporal.tumbling(datetime.timedelta(hours=0.5)),  # Fixed-size window of 0.5 hour\n",
        "        behavior=pw.temporal.exactly_once_behavior()  # Guarantees exactly-once processing semantics\n",
        "    )\n",
        "    .reduce(\n",
        "        t=pw.this._pw_window_end,                        # Assign the end timestamp of each window\n",
        "        occ_avg=pw.reducers.avg(pw.this.Occupancy),     # Average occupancy observed in the window\n",
        "        cap=pw.reducers.max(pw.this.Capacity),           # Maximum capacity observed (typically constant per lot)\n",
        "    )\n",
        "    .with_columns(\n",
        "        # Compute the price using a simple dynamic pricing formula:\n",
        "        #     price = base_price + demand_fluctuation\n",
        "        #     where:\n",
        "        #         base_price = 10 (fixed minimum price)\n",
        "        #         demand_fluctuation = (occ_avg) / cap\n",
        "        #\n",
        "        # Intuition:\n",
        "        #The closer the ratio of occupancy average and capacity to 1 the higher will be the demand, hence increasing the prices\n",
        "        #The prices fluctuate between $10-$15 which is justifiable from demand and supply side of business and customers will too\n",
        "        price=10 + 5*(pw.this.occ_avg) / (pw.this.cap)\n",
        "    )\n",
        ")\n"
      ],
      "metadata": {
        "id": "1M-mZnORYRkT"
      },
      "execution_count": null,
      "outputs": []
    },
    {
      "cell_type": "code",
      "source": [
        "from bokeh.plotting import figure #libraries necessary for plot are imported\n",
        "import bokeh.plotting\n",
        "# Activate the Panel extension to enable interactive visualizations\n",
        "pn.extension()\n",
        "\n",
        "# Define a custom Bokeh plotting function that takes a data source (from Pathway) and returns a figure\n",
        "def price_plotter(source):\n",
        "    # Create a Bokeh figure with datetime x-axis\n",
        "    fig = bokeh.plotting.figure(\n",
        "        height=400,\n",
        "        width=800,\n",
        "        title=\"Daily Parking Price in $\",\n",
        "        x_axis_type=\"datetime\",  # Ensure time-based data is properly formatted on the x-axis\n",
        "    )\n",
        "    # Plot a line graph showing how the price evolves over time\n",
        "    fig.line(\"t\", \"price\", source=source, line_width=2, color=\"navy\")\n",
        "\n",
        "    # Overlay red circles at each data point for better visibility\n",
        "    fig.circle(\"t\", \"price\", source=source, size=6, color=\"red\")\n",
        "\n",
        "    return fig\n",
        "\n",
        "# Use Pathway's built-in .plot() method to bind the data stream (delta_window) to the Bokeh plot\n",
        "# - 'price_plotter' is the rendering function\n",
        "# - 'sorting_col=\"t\"' ensures the data is plotted in time order\n",
        "viz = delta_window.plot(price_plotter, sorting_col=\"t\")\n",
        "\n",
        "# Create a Panel layout and make it servable as a web app\n",
        "# This line enables the interactive plot to be displayed when the app is served\n",
        "pn.Column(viz).servable()"
      ],
      "metadata": {
        "id": "cSLFyr2NTJYN"
      },
      "execution_count": null,
      "outputs": []
    },
    {
      "cell_type": "markdown",
      "source": [
        "##Model **2**"
      ],
      "metadata": {
        "id": "FiL0D2MHeMVW"
      }
    },
    {
      "cell_type": "code",
      "source": [
        "# Define a daily tumbling window over the data stream using Pathway\n",
        "# This block performs temporal aggregation and computes a dynamic price for each day\n",
        "delta_window1 = (\n",
        "    data_with_time.windowby(\n",
        "        pw.this.t,  # Event time column to use for windowing (parsed datetime)\n",
        "        instance=pw.this.day,  # Logical partitioning key: one instance per calendar day\n",
        "        window=pw.temporal.tumbling(datetime.timedelta(hours=0.5)),  # Fixed-size daily window of 0.5 hour\n",
        "        behavior=pw.temporal.exactly_once_behavior()  # Guarantees exactly-once processing semantics\n",
        "    )\n",
        "    .reduce(\n",
        "        t=pw.this._pw_window_end,                        # Assign the end timestamp of each window\n",
        "        occ_avg=pw.reducers.avg(pw.this.Occupancy),     # Average occupancy observed in the window\n",
        "        cap=pw.reducers.max(pw.this.Capacity),           # Maximum capacity observed (typically constant per spot)\n",
        "        queue_length=pw.reducers.avg(pw.this.QueueLength),  # Average queue length in the window\n",
        "        traffic=pw.reducers.any(pw.this.TrafficConditionNearby),  # Any traffic condition value in the window\n",
        "        special_day=pw.reducers.any(pw.this.IsSpecialDay),  # Any special day flag in the window\n",
        "        vehicle_type=pw.reducers.any(pw.this.VehicleType),  # Any vehicle type value in the window\n",
        "    )\n",
        "    .with_columns(\n",
        "        # Demand Formula:\n",
        "        #     demand = α * (Occupancy / Capacity) + β * QueueLength + γ * Traffic + δ * IsSpecialDay + ε * VehicleType\n",
        "        #     where:\n",
        "        #         α = 1.2, β = 0.2, γ = 0.2, δ = 0.8, ε = 0.2\n",
        "        #         Occupancy, QueueLength, Traffic, etc., are normalized values\n",
        "        # This keeps the price between $5-$25\n",
        "        # The numbers given to vehicles, traffic in the first few columns are given with logic which is useful in this model depending on weightage of those parameters in model pricing formula\n",
        "        price=pw.apply(\n",
        "            lambda x: max(5, min(20, x)),\n",
        "            10 + 5 *(1.2 * (pw.this.occ_avg / pw.this.cap) +\n",
        "                0.2 * pw.this.queue_length -\n",
        "                0.2 * pw.this.traffic +\n",
        "                0.8 * pw.this.special_day +\n",
        "                0.2 * pw.this.vehicle_type - 1)\n",
        "        )\n",
        "    )\n",
        ")\n"
      ],
      "metadata": {
        "id": "jxwQT_scePE0"
      },
      "execution_count": null,
      "outputs": []
    },
    {
      "cell_type": "code",
      "source": [
        "from bokeh.plotting import figure\n",
        "import bokeh.plotting\n",
        "# Activate the Panel extension to enable interactive visualizations\n",
        "pn.extension()\n",
        "\n",
        "# Define a custom Bokeh plotting function that takes a data source (from Pathway) and returns a figure\n",
        "def price_plotter(source):\n",
        "    # Create a Bokeh figure with datetime x-axis\n",
        "    fig = bokeh.plotting.figure(\n",
        "        height=400,\n",
        "        width=800,\n",
        "        title=\"Pathway: Daily Parking Price\",\n",
        "        x_axis_type=\"datetime\",  # Ensure time-based data is properly formatted on the x-axis\n",
        "    )\n",
        "    # Plot a line graph showing how the price evolves over time\n",
        "    fig.line(\"t\", \"price\", source=source, line_width=2, color=\"navy\")\n",
        "\n",
        "    # Overlay red circles at each data point for better visibility\n",
        "    fig.circle(\"t\", \"price\", source=source, size=6, color=\"red\")\n",
        "\n",
        "    return fig\n",
        "\n",
        "# Use Pathway's built-in .plot() method to bind the data stream (delta_window) to the Bokeh plot\n",
        "# - 'price_plotter' is the rendering function\n",
        "# - 'sorting_col=\"t\"' ensures the data is plotted in time order\n",
        "viz = delta_window1.plot(price_plotter, sorting_col=\"t\")\n",
        "\n",
        "# Create a Panel layout and make it servable as a web app\n",
        "# This line enables the interactive plot to be displayed when the app is served\n",
        "pn.Column(viz).servable()"
      ],
      "metadata": {
        "id": "7b6NWm6Y8lsY"
      },
      "execution_count": null,
      "outputs": []
    },
    {
      "cell_type": "code",
      "source": [
        "pw.run()"
      ],
      "metadata": {
        "id": "T9hejB4gIus5"
      },
      "execution_count": null,
      "outputs": []
    },
    {
      "cell_type": "code",
      "source": [],
      "metadata": {
        "id": "NwHLKWpnIzT2"
      },
      "execution_count": null,
      "outputs": []
    }
  ]
}